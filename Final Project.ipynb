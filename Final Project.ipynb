{
 "cells": [
  {
   "cell_type": "markdown",
   "id": "f90be233",
   "metadata": {},
   "source": [
    "# Introduction\n",
    "\n",
    "put stuff here"
   ]
  },
  {
   "cell_type": "markdown",
   "id": "9832a919",
   "metadata": {},
   "source": [
    "# PART 1 : Data Collection\n",
    "In this section we will collect all the data we will need to begin studying and analyzing depression across U.S cities and it's possible causes"
   ]
  },
  {
   "cell_type": "markdown",
   "id": "7eb8268a",
   "metadata": {},
   "source": [
    "Let's start off by importing all the Python libraries we will need."
   ]
  },
  {
   "cell_type": "code",
   "execution_count": 1,
   "id": "e6f1bd23",
   "metadata": {},
   "outputs": [],
   "source": [
    "import pandas as pd\n",
    "import matplotlib.pyplot as plt\n",
    "import numpy as np\n",
    "from bs4 import BeautifulSoup\n",
    "import requests\n",
    "headers = {\"user-agent\": \"Mozilla/5.0 (Macintosh; Intel Mac OS X 10_15_7) AppleWebKit/537.36 (KHTML, like Gecko) Chrome/93.0.4577.82 Safari/537.36\"}"
   ]
  },
  {
   "cell_type": "markdown",
   "id": "494945c8",
   "metadata": {},
   "source": [
    "List All Data sources here and talk about what information they give us"
   ]
  },
  {
   "cell_type": "markdown",
   "id": "0c508726",
   "metadata": {},
   "source": [
    "Before we start getting the necessary dataframes, here we will create a list of states. We need this list of states to fetch data from the cdc chronicdata API. The dataframe we will be using for depression information about cities is very big and for this reason we will fetch parts of it at a time, using the state abbreviations (from the list below) to get certain parts."
   ]
  },
  {
   "cell_type": "code",
   "execution_count": 2,
   "id": "f3af64a5",
   "metadata": {},
   "outputs": [],
   "source": [
    "# List of state abbreviations\n",
    "states = ['AL', 'AK', 'AZ' ,'AR', 'CA', 'CO', 'CT', 'DE', 'FL', 'GA', 'HI', 'ID', 'IL', 'IN',\n",
    " 'IA', 'KS', 'KY', 'LA', 'ME', 'MD', 'MA', 'MI', 'MN', 'MS', 'MO', 'MT', 'NE', 'NV',\n",
    " 'NH', 'NJ', 'NM', 'NY', 'DC', 'NC', 'ND', 'OH', 'OK', 'OR', 'PA', 'RI', 'SC', 'SD',\n",
    " 'TN', 'TX', 'UT', 'VT', 'VA', 'WA', 'WV', 'WI', 'WY']\n"
   ]
  },
  {
   "cell_type": "markdown",
   "id": "7ec384fd",
   "metadata": {},
   "source": [
    "Below we fetch the Depression and Mental Health Dataframe from the CDC chronicdata api. To do this we will be using HTTP requests using python's requests library. To do this in a more efficient way, what we do here is go through each state abbreviation and get the json representation of the data for that state. In the request we specify the measure id, both MHTLH(mental health) and DEPRESSION and then specify a limit of 4000 rows. We do 4000 rows because no state has any more than 4000. After we get the json response we append it to a list.\n",
    "\n"
   ]
  },
  {
   "cell_type": "code",
   "execution_count": 3,
   "id": "0be4e648",
   "metadata": {},
   "outputs": [],
   "source": [
    "list = []\n",
    "x = 0\n",
    "#df = pd.json_normalize(res.json())\n",
    "for state in states:\n",
    "    res = requests.get(f'https://chronicdata.cdc.gov/resource/eav7-hnsx.json?measureid=MHLTH&$limit=4000&stateabbr={state}')\n",
    "    list.append(res.json())\n",
    "    res = requests.get(f'https://chronicdata.cdc.gov/resource/eav7-hnsx.json?measureid=DEPRESSION&$limit=4000&stateabbr={state}')\n",
    "    list.append(res.json())\n",
    "    \n",
    "    "
   ]
  },
  {
   "cell_type": "markdown",
   "id": "2cc2d64b",
   "metadata": {},
   "source": [
    "Now we will create the pandas dataframe by going through the list of json files and appending them"
   ]
  },
  {
   "cell_type": "code",
   "execution_count": 4,
   "id": "0e6e44f6",
   "metadata": {},
   "outputs": [],
   "source": [
    "df = pd.json_normalize(list[0])\n",
    "df.set_index('locationid')\n",
    "for i in range(1,len(list)):\n",
    "    curr = pd.json_normalize(list[i])\n",
    "    df = df.append(curr)\n"
   ]
  },
  {
   "cell_type": "markdown",
   "id": "d1a85f5a",
   "metadata": {},
   "source": [
    "Once we have gotten the data frame we need to clean it up a bit. There are lots of columns that we don't really need so we can just delete them. We will also rename a few of the columns. "
   ]
  },
  {
   "cell_type": "code",
   "execution_count": 5,
   "id": "b47c25d4",
   "metadata": {},
   "outputs": [],
   "source": [
    "# Cleaning up DF a little bit\n",
    "\n",
    "df = df.rename(columns={'year': 'Year', 'statedesc': 'State', 'locationname': 'City', 'measure': 'Symptom', 'data_value': 'Percent', 'stateabbr': 'State Abbr'})\n",
    "del df['datasource']\n",
    "del df['measureid']\n",
    "del df['geolocation.coordinates']\n",
    "del df['data_value_footnote_symbol']\n",
    "del df['data_value_footnote']\n",
    "del df['low_confidence_limit']\n",
    "del df['high_confidence_limit']\n",
    "del df['categoryid']\n",
    "del df['datavaluetypeid']\n",
    "\n",
    "df['Affected Population'] = df['totalpopulation'].astype('int') * df['Percent'].astype('float')"
   ]
  },
  {
   "cell_type": "markdown",
   "id": "a7f9d2ff",
   "metadata": {},
   "source": [
    "Next up we will import the income data set. Using the link from above you can download the csv file for this dataset. Once downloaded we will read it into a Pandas dataframe. As with the other dataframe, we will delete unneccesary columns and rename a few of the columns. In this dataframe there are rows of cities that actually repeat. To fix this issue we will use groupby and group together rows with the same city name. After doing so we aggregate the grouped columns using the average and this will become the dataframe."
   ]
  },
  {
   "cell_type": "code",
   "execution_count": 6,
   "id": "44102bb1",
   "metadata": {
    "scrolled": true
   },
   "outputs": [
    {
     "data": {
      "text/html": [
       "<div>\n",
       "<style scoped>\n",
       "    .dataframe tbody tr th:only-of-type {\n",
       "        vertical-align: middle;\n",
       "    }\n",
       "\n",
       "    .dataframe tbody tr th {\n",
       "        vertical-align: top;\n",
       "    }\n",
       "\n",
       "    .dataframe thead th {\n",
       "        text-align: right;\n",
       "    }\n",
       "</style>\n",
       "<table border=\"1\" class=\"dataframe\">\n",
       "  <thead>\n",
       "    <tr style=\"text-align: right;\">\n",
       "      <th></th>\n",
       "      <th>loc_fullname</th>\n",
       "      <th>State_Code</th>\n",
       "      <th>Zip Code</th>\n",
       "      <th>Mean Income</th>\n",
       "      <th>Median Income</th>\n",
       "    </tr>\n",
       "  </thead>\n",
       "  <tbody>\n",
       "    <tr>\n",
       "      <th>0</th>\n",
       "      <td>Abbeville, Alabama</td>\n",
       "      <td>1.0</td>\n",
       "      <td>36310.0</td>\n",
       "      <td>40518.000000</td>\n",
       "      <td>25216.000000</td>\n",
       "    </tr>\n",
       "    <tr>\n",
       "      <th>1</th>\n",
       "      <td>Abbeville, Louisiana</td>\n",
       "      <td>22.0</td>\n",
       "      <td>70510.0</td>\n",
       "      <td>30647.000000</td>\n",
       "      <td>25628.333333</td>\n",
       "    </tr>\n",
       "    <tr>\n",
       "      <th>2</th>\n",
       "      <td>Abbeville, South Carolina</td>\n",
       "      <td>45.0</td>\n",
       "      <td>29620.0</td>\n",
       "      <td>45585.666667</td>\n",
       "      <td>32245.000000</td>\n",
       "    </tr>\n",
       "    <tr>\n",
       "      <th>3</th>\n",
       "      <td>Abbotsford, Wisconsin</td>\n",
       "      <td>55.0</td>\n",
       "      <td>54405.0</td>\n",
       "      <td>58254.000000</td>\n",
       "      <td>44919.000000</td>\n",
       "    </tr>\n",
       "    <tr>\n",
       "      <th>4</th>\n",
       "      <td>Aberdeen, Maryland</td>\n",
       "      <td>24.0</td>\n",
       "      <td>21001.0</td>\n",
       "      <td>96480.000000</td>\n",
       "      <td>80370.000000</td>\n",
       "    </tr>\n",
       "  </tbody>\n",
       "</table>\n",
       "</div>"
      ],
      "text/plain": [
       "                loc_fullname  State_Code  Zip Code   Mean Income  \\\n",
       "0         Abbeville, Alabama         1.0   36310.0  40518.000000   \n",
       "1       Abbeville, Louisiana        22.0   70510.0  30647.000000   \n",
       "2  Abbeville, South Carolina        45.0   29620.0  45585.666667   \n",
       "3      Abbotsford, Wisconsin        55.0   54405.0  58254.000000   \n",
       "4         Aberdeen, Maryland        24.0   21001.0  96480.000000   \n",
       "\n",
       "   Median Income  \n",
       "0   25216.000000  \n",
       "1   25628.333333  \n",
       "2   32245.000000  \n",
       "3   44919.000000  \n",
       "4   80370.000000  "
      ]
     },
     "execution_count": 6,
     "metadata": {},
     "output_type": "execute_result"
    }
   ],
   "source": [
    "# Import Income Data Set\n",
    "income_df = pd.read_csv(\"kaggle_income.csv\", encoding='latin-1')\n",
    "income_df['loc_fullname'] = income_df['City'] + ', ' + income_df['State_Name']\n",
    "\n",
    "# delete unnecessary columns\n",
    "del income_df['id']\n",
    "del income_df['Type']\n",
    "del income_df['County']\n",
    "del income_df['Place']\n",
    "del income_df['Primary']\n",
    "del income_df['Lat']\n",
    "del income_df['Lon']\n",
    "del income_df['sum_w']\n",
    "del income_df['Stdev']\n",
    "del income_df['Area_Code']\n",
    "del income_df['ALand']\n",
    "del income_df['AWater']\n",
    "\n",
    "\n",
    "# rename columns\n",
    "income_df = income_df.rename(columns = {'Mean':'Mean Income','Median':'Median Income', 'Zip_Code': 'Zip Code'})\n",
    "\n",
    "# combine duplicate cities\n",
    "grouped = income_df.groupby(['loc_fullname'], as_index=False)\n",
    "income_df = grouped.agg('mean')\n",
    "income_df.head(5)"
   ]
  },
  {
   "cell_type": "markdown",
   "id": "0bed008e",
   "metadata": {},
   "source": [
    "Next up is the population dataset. Just as with the income dataset, we download this dataset as a csv file and read this file into a Pandas dataframe directly. We again delete uneccesary columns and rename columns. For this dataframe we will also create a few new columns for location fullname, and county name, by combing different columns together. "
   ]
  },
  {
   "cell_type": "code",
   "execution_count": 7,
   "id": "cbfc022e",
   "metadata": {
    "scrolled": true
   },
   "outputs": [
    {
     "data": {
      "text/html": [
       "<div>\n",
       "<style scoped>\n",
       "    .dataframe tbody tr th:only-of-type {\n",
       "        vertical-align: middle;\n",
       "    }\n",
       "\n",
       "    .dataframe tbody tr th {\n",
       "        vertical-align: top;\n",
       "    }\n",
       "\n",
       "    .dataframe thead th {\n",
       "        text-align: right;\n",
       "    }\n",
       "</style>\n",
       "<table border=\"1\" class=\"dataframe\">\n",
       "  <thead>\n",
       "    <tr style=\"text-align: right;\">\n",
       "      <th></th>\n",
       "      <th>City</th>\n",
       "      <th>State Abbr</th>\n",
       "      <th>State</th>\n",
       "      <th>county_fips</th>\n",
       "      <th>County</th>\n",
       "      <th>Total Population</th>\n",
       "      <th>Density</th>\n",
       "      <th>zips</th>\n",
       "      <th>loc_fullname</th>\n",
       "    </tr>\n",
       "  </thead>\n",
       "  <tbody>\n",
       "    <tr>\n",
       "      <th>0</th>\n",
       "      <td>New York</td>\n",
       "      <td>NY</td>\n",
       "      <td>New York</td>\n",
       "      <td>36061</td>\n",
       "      <td>New York County</td>\n",
       "      <td>18713220</td>\n",
       "      <td>10715</td>\n",
       "      <td>11229 11226 11225 11224 11222 11221 11220 1138...</td>\n",
       "      <td>New York, New York</td>\n",
       "    </tr>\n",
       "    <tr>\n",
       "      <th>1</th>\n",
       "      <td>Los Angeles</td>\n",
       "      <td>CA</td>\n",
       "      <td>California</td>\n",
       "      <td>6037</td>\n",
       "      <td>Los Angeles County</td>\n",
       "      <td>12750807</td>\n",
       "      <td>3276</td>\n",
       "      <td>90291 90293 90292 91316 91311 90037 90031 9000...</td>\n",
       "      <td>Los Angeles, California</td>\n",
       "    </tr>\n",
       "    <tr>\n",
       "      <th>2</th>\n",
       "      <td>Chicago</td>\n",
       "      <td>IL</td>\n",
       "      <td>Illinois</td>\n",
       "      <td>17031</td>\n",
       "      <td>Cook County</td>\n",
       "      <td>8604203</td>\n",
       "      <td>4574</td>\n",
       "      <td>60018 60649 60641 60640 60643 60642 60645 6064...</td>\n",
       "      <td>Chicago, Illinois</td>\n",
       "    </tr>\n",
       "    <tr>\n",
       "      <th>3</th>\n",
       "      <td>Miami</td>\n",
       "      <td>FL</td>\n",
       "      <td>Florida</td>\n",
       "      <td>12086</td>\n",
       "      <td>Miami-Dade County</td>\n",
       "      <td>6445545</td>\n",
       "      <td>5019</td>\n",
       "      <td>33129 33125 33126 33127 33128 33149 33144 3314...</td>\n",
       "      <td>Miami, Florida</td>\n",
       "    </tr>\n",
       "    <tr>\n",
       "      <th>4</th>\n",
       "      <td>Dallas</td>\n",
       "      <td>TX</td>\n",
       "      <td>Texas</td>\n",
       "      <td>48113</td>\n",
       "      <td>Dallas County</td>\n",
       "      <td>5743938</td>\n",
       "      <td>1526</td>\n",
       "      <td>75287 75098 75233 75254 75251 75252 75253 7503...</td>\n",
       "      <td>Dallas, Texas</td>\n",
       "    </tr>\n",
       "  </tbody>\n",
       "</table>\n",
       "</div>"
      ],
      "text/plain": [
       "          City State Abbr       State  county_fips              County  \\\n",
       "0     New York         NY    New York        36061     New York County   \n",
       "1  Los Angeles         CA  California         6037  Los Angeles County   \n",
       "2      Chicago         IL    Illinois        17031         Cook County   \n",
       "3        Miami         FL     Florida        12086   Miami-Dade County   \n",
       "4       Dallas         TX       Texas        48113       Dallas County   \n",
       "\n",
       "   Total Population  Density  \\\n",
       "0          18713220    10715   \n",
       "1          12750807     3276   \n",
       "2           8604203     4574   \n",
       "3           6445545     5019   \n",
       "4           5743938     1526   \n",
       "\n",
       "                                                zips             loc_fullname  \n",
       "0  11229 11226 11225 11224 11222 11221 11220 1138...       New York, New York  \n",
       "1  90291 90293 90292 91316 91311 90037 90031 9000...  Los Angeles, California  \n",
       "2  60018 60649 60641 60640 60643 60642 60645 6064...        Chicago, Illinois  \n",
       "3  33129 33125 33126 33127 33128 33149 33144 3314...           Miami, Florida  \n",
       "4  75287 75098 75233 75254 75251 75252 75253 7503...            Dallas, Texas  "
      ]
     },
     "execution_count": 7,
     "metadata": {},
     "output_type": "execute_result"
    }
   ],
   "source": [
    "# import us cities dataset\n",
    "cities_df = pd.read_csv('uscities.csv')\n",
    "del cities_df['city_ascii']\n",
    "del cities_df['lat']\n",
    "del cities_df['lng']\n",
    "del cities_df['source']\n",
    "del cities_df['military']\n",
    "del cities_df['incorporated']\n",
    "del cities_df['timezone']\n",
    "del cities_df['ranking']\n",
    "del cities_df['id']\n",
    "\n",
    "cities_df = cities_df.rename(columns={'population': 'Total Population', 'city': 'City', 'state_id': 'State Abbr',\n",
    "                                     'state_name': 'State', 'county_name': 'County', 'density': 'Density'})\n",
    "cities_df['loc_fullname'] = cities_df['City'] + ', ' + cities_df['State']\n",
    "cities_df['County'] = cities_df['County'] + ' County'\n",
    "\n",
    "cities_df.head(5)"
   ]
  },
  {
   "cell_type": "markdown",
   "id": "f8069c50",
   "metadata": {},
   "source": [
    "The final dataset we will be using is the temperature dataset. We read the csv file into a new Pandas dataframe. After doing this we will create a new column called state, which is just the location id column but only the first two characters."
   ]
  },
  {
   "cell_type": "code",
   "execution_count": 8,
   "id": "58f9ea83",
   "metadata": {},
   "outputs": [
    {
     "data": {
      "text/html": [
       "<div>\n",
       "<style scoped>\n",
       "    .dataframe tbody tr th:only-of-type {\n",
       "        vertical-align: middle;\n",
       "    }\n",
       "\n",
       "    .dataframe tbody tr th {\n",
       "        vertical-align: top;\n",
       "    }\n",
       "\n",
       "    .dataframe thead th {\n",
       "        text-align: right;\n",
       "    }\n",
       "</style>\n",
       "<table border=\"1\" class=\"dataframe\">\n",
       "  <thead>\n",
       "    <tr style=\"text-align: right;\">\n",
       "      <th></th>\n",
       "      <th>Location ID</th>\n",
       "      <th>County</th>\n",
       "      <th>Value</th>\n",
       "      <th>Rank</th>\n",
       "      <th>Anomaly (1901-2000 base period)</th>\n",
       "      <th>Annual Avg Temp F</th>\n",
       "      <th>State Abbr</th>\n",
       "    </tr>\n",
       "  </thead>\n",
       "  <tbody>\n",
       "    <tr>\n",
       "      <th>0</th>\n",
       "      <td>AL-001</td>\n",
       "      <td>Autauga County</td>\n",
       "      <td>53.0</td>\n",
       "      <td>48</td>\n",
       "      <td>-1.3</td>\n",
       "      <td>54.3</td>\n",
       "      <td>AL</td>\n",
       "    </tr>\n",
       "    <tr>\n",
       "      <th>1</th>\n",
       "      <td>AL-003</td>\n",
       "      <td>Baldwin County</td>\n",
       "      <td>57.6</td>\n",
       "      <td>61</td>\n",
       "      <td>-0.7</td>\n",
       "      <td>58.3</td>\n",
       "      <td>AL</td>\n",
       "    </tr>\n",
       "    <tr>\n",
       "      <th>2</th>\n",
       "      <td>AL-005</td>\n",
       "      <td>Barbour County</td>\n",
       "      <td>54.6</td>\n",
       "      <td>47</td>\n",
       "      <td>-1.2</td>\n",
       "      <td>55.8</td>\n",
       "      <td>AL</td>\n",
       "    </tr>\n",
       "    <tr>\n",
       "      <th>3</th>\n",
       "      <td>AL-007</td>\n",
       "      <td>Bibb County</td>\n",
       "      <td>51.2</td>\n",
       "      <td>44</td>\n",
       "      <td>-1.6</td>\n",
       "      <td>52.8</td>\n",
       "      <td>AL</td>\n",
       "    </tr>\n",
       "    <tr>\n",
       "      <th>4</th>\n",
       "      <td>AL-009</td>\n",
       "      <td>Blount County</td>\n",
       "      <td>50.3</td>\n",
       "      <td>61</td>\n",
       "      <td>-0.3</td>\n",
       "      <td>50.6</td>\n",
       "      <td>AL</td>\n",
       "    </tr>\n",
       "  </tbody>\n",
       "</table>\n",
       "</div>"
      ],
      "text/plain": [
       "  Location ID          County  Value  Rank  Anomaly (1901-2000 base period)  \\\n",
       "0      AL-001  Autauga County   53.0    48                             -1.3   \n",
       "1      AL-003  Baldwin County   57.6    61                             -0.7   \n",
       "2      AL-005  Barbour County   54.6    47                             -1.2   \n",
       "3      AL-007     Bibb County   51.2    44                             -1.6   \n",
       "4      AL-009   Blount County   50.3    61                             -0.3   \n",
       "\n",
       "   Annual Avg Temp F State Abbr  \n",
       "0               54.3         AL  \n",
       "1               58.3         AL  \n",
       "2               55.8         AL  \n",
       "3               52.8         AL  \n",
       "4               50.6         AL  "
      ]
     },
     "execution_count": 8,
     "metadata": {},
     "output_type": "execute_result"
    }
   ],
   "source": [
    "# lets also do temperature by county, import from this dataset\n",
    "\n",
    "temperature = pd.read_csv('temp_by_county.csv')\n",
    "\n",
    "temperature = temperature.rename(columns={'Location': 'County', '1901-2000 Mean': 'Annual Avg Temp F'})\n",
    "\n",
    "# this data is formatted pretty weird\n",
    "# lets add a state column so we can more reasily merge it back onto our main df\n",
    "temperature['State Abbr'] = temperature['Location ID'].apply(lambda x: x[:2])\n",
    "temperature.head(5)"
   ]
  },
  {
   "cell_type": "markdown",
   "id": "14394c83",
   "metadata": {},
   "source": [
    "# Part 2 : Data Proccessing\n",
    "\n",
    "In this part we will combine and modify the dataframes so we can analyze and study the data more easily.\n",
    "\n",
    "Now going back to the depression and mental health dataframe we will modify it a bit to make it easier to merge all the dataframes together. We first create a new column called loc_fullname, which is just a combination of the city and state columns. We then merge the three other dataframes using various columns to do so. That should result in the following.  "
   ]
  },
  {
   "cell_type": "code",
   "execution_count": 9,
   "id": "bcc1e067",
   "metadata": {},
   "outputs": [],
   "source": [
    "# Create a column that holds: {City}, {State}\n",
    "# We will merge using this as the key. Then we will delete this (because we already have columns for state and cities)\n",
    "\n",
    "df['loc_fullname'] = df['City'] + ', ' + df['State']\n",
    "df = df.merge(income_df[['loc_fullname', 'Mean Income', 'Median Income', 'Zip Code']], on='loc_fullname')\n",
    "df = df.merge(cities_df[['loc_fullname', 'Total Population', 'County', 'Density']], on='loc_fullname')\n",
    "df = df.merge(temperature, on=['State Abbr', 'County'])\n",
    "del df['loc_fullname']"
   ]
  },
  {
   "cell_type": "markdown",
   "id": "8365434f",
   "metadata": {},
   "source": [
    "Now that we have a dataframe holding all the information we need, it is time to clean up a bit. The formatting of the dataframe as it is now is very clunky with columns specifying what values represent with other columns as the actual values. We will create columns with the actual values, with the type of data those values represent being the column names. At the same time we will change the type of these columns to double so that they are easier to work with. "
   ]
  },
  {
   "cell_type": "code",
   "execution_count": 10,
   "id": "a761eacb",
   "metadata": {},
   "outputs": [],
   "source": [
    "df['Mental Health Age-Adjusted Percent'] = (df.loc[((df['short_question_text'] == 'Mental Health') & (df['data_value_type'] == 'Age-adjusted prevalence'))]['Percent']).astype('double')\n",
    "df['Mental Health Crude Percent'] = (df.loc[((df['short_question_text'] == 'Mental Health') & (df['data_value_type'] == 'Crude prevalence'))]['Percent']).astype('double')\n",
    "df['Depression Age-Adjusted Percent'] = (df.loc[((df['short_question_text'] == 'Depression') & (df['data_value_type'] == 'Age-adjusted prevalence'))]['Percent']).astype('double')\n",
    "df['Depression Crude Percent'] = (df.loc[((df['short_question_text'] == 'Depression') & (df['data_value_type'] == 'Crude prevalence'))]['Percent']).astype('double')\n"
   ]
  },
  {
   "cell_type": "code",
   "execution_count": 17,
   "id": "17f04ca0",
   "metadata": {},
   "outputs": [
    {
     "data": {
      "text/plain": [
       "array(['Year', 'State Abbr', 'State', 'City', 'County', 'Mean Income',\n",
       "       'Median Income', 'Annual Avg Temp F', 'Total Population',\n",
       "       'Density', 'Affected Population',\n",
       "       'Mental Health Age-Adjusted Percent',\n",
       "       'Mental Health Crude Percent', 'Depression Age-Adjusted Percent',\n",
       "       'Depression Crude Percent'], dtype=object)"
      ]
     },
     "execution_count": 17,
     "metadata": {},
     "output_type": "execute_result"
    }
   ],
   "source": [
    "df.head(5)\n",
    "df.columns.values"
   ]
  },
  {
   "cell_type": "markdown",
   "id": "f17535e7",
   "metadata": {},
   "source": [
    "Lets delete some unnecessary columns and rename some columns as well. After this we will combine the repeated city columns into one where all the mental health and depression data will be together."
   ]
  },
  {
   "cell_type": "code",
   "execution_count": 12,
   "id": "28933d87",
   "metadata": {},
   "outputs": [],
   "source": [
    "del df['Symptom']\n",
    "del df['data_value_unit']\n",
    "del df['data_value_type']\n",
    "del df['Percent']\n",
    "del df['short_question_text']\n",
    "del df['Location ID']\n",
    "del df['Value']\n",
    "del df['Rank']\n",
    "del df['Anomaly (1901-2000 base period)']\n",
    "del df['category']\n",
    "del df['totalpopulation']\n",
    "df['Zip Code'] = df['Zip Code'].astype('int')"
   ]
  },
  {
   "cell_type": "code",
   "execution_count": 13,
   "id": "f2a11156",
   "metadata": {
    "scrolled": false
   },
   "outputs": [],
   "source": [
    "# Aggregate rows to have one instance of each and information on mental health and depression rates\n",
    "grouped = df.groupby(by=['Year','State', 'State Abbr','City','locationid','Mean Income','Median Income','Zip Code'\n",
    "                         ,'Total Population', 'County', 'Annual Avg Temp F'], as_index=False, dropna=False)\n",
    "df = grouped.agg('sum')\n",
    "\n",
    "\n",
    "# Reordering columns\n",
    "df = df[['Year', 'State Abbr', 'State', 'City', 'County', 'Mean Income', 'Median Income', 'Annual Avg Temp F'\n",
    "         ,'Total Population', 'Density', 'Affected Population', 'Mental Health Age-Adjusted Percent', 'Mental Health Crude Percent', 'Depression Age-Adjusted Percent',\n",
    "        'Depression Crude Percent']]"
   ]
  },
  {
   "cell_type": "code",
   "execution_count": 14,
   "id": "1c49a938",
   "metadata": {},
   "outputs": [
    {
     "data": {
      "text/html": [
       "<div>\n",
       "<style scoped>\n",
       "    .dataframe tbody tr th:only-of-type {\n",
       "        vertical-align: middle;\n",
       "    }\n",
       "\n",
       "    .dataframe tbody tr th {\n",
       "        vertical-align: top;\n",
       "    }\n",
       "\n",
       "    .dataframe thead th {\n",
       "        text-align: right;\n",
       "    }\n",
       "</style>\n",
       "<table border=\"1\" class=\"dataframe\">\n",
       "  <thead>\n",
       "    <tr style=\"text-align: right;\">\n",
       "      <th></th>\n",
       "      <th>Year</th>\n",
       "      <th>State Abbr</th>\n",
       "      <th>State</th>\n",
       "      <th>City</th>\n",
       "      <th>County</th>\n",
       "      <th>Mean Income</th>\n",
       "      <th>Median Income</th>\n",
       "      <th>Annual Avg Temp F</th>\n",
       "      <th>Total Population</th>\n",
       "      <th>Density</th>\n",
       "      <th>Affected Population</th>\n",
       "      <th>Mental Health Age-Adjusted Percent</th>\n",
       "      <th>Mental Health Crude Percent</th>\n",
       "      <th>Depression Age-Adjusted Percent</th>\n",
       "      <th>Depression Crude Percent</th>\n",
       "    </tr>\n",
       "  </thead>\n",
       "  <tbody>\n",
       "    <tr>\n",
       "      <th>0</th>\n",
       "      <td>2019</td>\n",
       "      <td>AL</td>\n",
       "      <td>Alabama</td>\n",
       "      <td>Abbeville</td>\n",
       "      <td>Henry County</td>\n",
       "      <td>40518.000000</td>\n",
       "      <td>25216.000000</td>\n",
       "      <td>56.8</td>\n",
       "      <td>2560</td>\n",
       "      <td>252</td>\n",
       "      <td>233587.2</td>\n",
       "      <td>20.2</td>\n",
       "      <td>18.3</td>\n",
       "      <td>24.8</td>\n",
       "      <td>23.6</td>\n",
       "    </tr>\n",
       "    <tr>\n",
       "      <th>1</th>\n",
       "      <td>2019</td>\n",
       "      <td>AL</td>\n",
       "      <td>Alabama</td>\n",
       "      <td>Adamsville</td>\n",
       "      <td>Jefferson County</td>\n",
       "      <td>53383.000000</td>\n",
       "      <td>47460.000000</td>\n",
       "      <td>51.7</td>\n",
       "      <td>4281</td>\n",
       "      <td>260</td>\n",
       "      <td>378943.6</td>\n",
       "      <td>18.8</td>\n",
       "      <td>18.1</td>\n",
       "      <td>23.6</td>\n",
       "      <td>23.3</td>\n",
       "    </tr>\n",
       "    <tr>\n",
       "      <th>2</th>\n",
       "      <td>2019</td>\n",
       "      <td>AL</td>\n",
       "      <td>Alabama</td>\n",
       "      <td>Alabaster</td>\n",
       "      <td>Shelby County</td>\n",
       "      <td>81118.333333</td>\n",
       "      <td>149711.333333</td>\n",
       "      <td>52.1</td>\n",
       "      <td>33487</td>\n",
       "      <td>2048</td>\n",
       "      <td>2446626.0</td>\n",
       "      <td>15.4</td>\n",
       "      <td>15.6</td>\n",
       "      <td>23.3</td>\n",
       "      <td>23.7</td>\n",
       "    </tr>\n",
       "    <tr>\n",
       "      <th>3</th>\n",
       "      <td>2019</td>\n",
       "      <td>AL</td>\n",
       "      <td>Alabama</td>\n",
       "      <td>Albertville</td>\n",
       "      <td>Marshall County</td>\n",
       "      <td>47199.500000</td>\n",
       "      <td>160358.500000</td>\n",
       "      <td>50.5</td>\n",
       "      <td>37775</td>\n",
       "      <td>1252</td>\n",
       "      <td>2030302.8</td>\n",
       "      <td>19.4</td>\n",
       "      <td>19.5</td>\n",
       "      <td>28.2</td>\n",
       "      <td>28.3</td>\n",
       "    </tr>\n",
       "    <tr>\n",
       "      <th>4</th>\n",
       "      <td>2019</td>\n",
       "      <td>AL</td>\n",
       "      <td>Alabama</td>\n",
       "      <td>Alexander City</td>\n",
       "      <td>Tallapoosa County</td>\n",
       "      <td>40286.000000</td>\n",
       "      <td>31306.000000</td>\n",
       "      <td>52.8</td>\n",
       "      <td>14317</td>\n",
       "      <td>524</td>\n",
       "      <td>1342988.4</td>\n",
       "      <td>19.5</td>\n",
       "      <td>18.6</td>\n",
       "      <td>26.1</td>\n",
       "      <td>25.5</td>\n",
       "    </tr>\n",
       "  </tbody>\n",
       "</table>\n",
       "</div>"
      ],
      "text/plain": [
       "   Year State Abbr    State            City             County   Mean Income  \\\n",
       "0  2019         AL  Alabama       Abbeville       Henry County  40518.000000   \n",
       "1  2019         AL  Alabama      Adamsville   Jefferson County  53383.000000   \n",
       "2  2019         AL  Alabama       Alabaster      Shelby County  81118.333333   \n",
       "3  2019         AL  Alabama     Albertville    Marshall County  47199.500000   \n",
       "4  2019         AL  Alabama  Alexander City  Tallapoosa County  40286.000000   \n",
       "\n",
       "   Median Income  Annual Avg Temp F  Total Population  Density  \\\n",
       "0   25216.000000               56.8              2560      252   \n",
       "1   47460.000000               51.7              4281      260   \n",
       "2  149711.333333               52.1             33487     2048   \n",
       "3  160358.500000               50.5             37775     1252   \n",
       "4   31306.000000               52.8             14317      524   \n",
       "\n",
       "   Affected Population  Mental Health Age-Adjusted Percent  \\\n",
       "0             233587.2                                20.2   \n",
       "1             378943.6                                18.8   \n",
       "2            2446626.0                                15.4   \n",
       "3            2030302.8                                19.4   \n",
       "4            1342988.4                                19.5   \n",
       "\n",
       "   Mental Health Crude Percent  Depression Age-Adjusted Percent  \\\n",
       "0                         18.3                             24.8   \n",
       "1                         18.1                             23.6   \n",
       "2                         15.6                             23.3   \n",
       "3                         19.5                             28.2   \n",
       "4                         18.6                             26.1   \n",
       "\n",
       "   Depression Crude Percent  \n",
       "0                      23.6  \n",
       "1                      23.3  \n",
       "2                      23.7  \n",
       "3                      28.3  \n",
       "4                      25.5  "
      ]
     },
     "execution_count": 14,
     "metadata": {},
     "output_type": "execute_result"
    }
   ],
   "source": [
    "df.head(5)"
   ]
  },
  {
   "cell_type": "markdown",
   "id": "d6e58c1e",
   "metadata": {},
   "source": [
    "Now we will set the index of the dataframe as locationid. Something you may notice is that there are rows with mean income of 0. What this means is that there were no records of income for these cities. We have two options with this issue, either delete these rows, or to make all the 0s into NaN values. We decided to delete these rows because they don't contribute too much to our data. The dataframe we are using has over 8000 rows so dropping some of them shouldn't affect our analysis."
   ]
  },
  {
   "cell_type": "code",
   "execution_count": 15,
   "id": "fcacfd4f",
   "metadata": {},
   "outputs": [
    {
     "ename": "KeyError",
     "evalue": "\"None of ['locationid'] are in the columns\"",
     "output_type": "error",
     "traceback": [
      "\u001b[0;31m---------------------------------------------------------------------------\u001b[0m",
      "\u001b[0;31mKeyError\u001b[0m                                  Traceback (most recent call last)",
      "\u001b[0;32m/tmp/ipykernel_99/62528195.py\u001b[0m in \u001b[0;36m<module>\u001b[0;34m\u001b[0m\n\u001b[0;32m----> 1\u001b[0;31m \u001b[0mdf\u001b[0m\u001b[0;34m.\u001b[0m\u001b[0mset_index\u001b[0m\u001b[0;34m(\u001b[0m\u001b[0;34m'locationid'\u001b[0m\u001b[0;34m,\u001b[0m\u001b[0minplace\u001b[0m \u001b[0;34m=\u001b[0m \u001b[0;32mTrue\u001b[0m\u001b[0;34m)\u001b[0m\u001b[0;34m\u001b[0m\u001b[0;34m\u001b[0m\u001b[0m\n\u001b[0m",
      "\u001b[0;32m/opt/conda/lib/python3.9/site-packages/pandas/util/_decorators.py\u001b[0m in \u001b[0;36mwrapper\u001b[0;34m(*args, **kwargs)\u001b[0m\n\u001b[1;32m    309\u001b[0m                     \u001b[0mstacklevel\u001b[0m\u001b[0;34m=\u001b[0m\u001b[0mstacklevel\u001b[0m\u001b[0;34m,\u001b[0m\u001b[0;34m\u001b[0m\u001b[0;34m\u001b[0m\u001b[0m\n\u001b[1;32m    310\u001b[0m                 )\n\u001b[0;32m--> 311\u001b[0;31m             \u001b[0;32mreturn\u001b[0m \u001b[0mfunc\u001b[0m\u001b[0;34m(\u001b[0m\u001b[0;34m*\u001b[0m\u001b[0margs\u001b[0m\u001b[0;34m,\u001b[0m \u001b[0;34m**\u001b[0m\u001b[0mkwargs\u001b[0m\u001b[0;34m)\u001b[0m\u001b[0;34m\u001b[0m\u001b[0;34m\u001b[0m\u001b[0m\n\u001b[0m\u001b[1;32m    312\u001b[0m \u001b[0;34m\u001b[0m\u001b[0m\n\u001b[1;32m    313\u001b[0m         \u001b[0;32mreturn\u001b[0m \u001b[0mwrapper\u001b[0m\u001b[0;34m\u001b[0m\u001b[0;34m\u001b[0m\u001b[0m\n",
      "\u001b[0;32m/opt/conda/lib/python3.9/site-packages/pandas/core/frame.py\u001b[0m in \u001b[0;36mset_index\u001b[0;34m(self, keys, drop, append, inplace, verify_integrity)\u001b[0m\n\u001b[1;32m   5444\u001b[0m \u001b[0;34m\u001b[0m\u001b[0m\n\u001b[1;32m   5445\u001b[0m         \u001b[0;32mif\u001b[0m \u001b[0mmissing\u001b[0m\u001b[0;34m:\u001b[0m\u001b[0;34m\u001b[0m\u001b[0;34m\u001b[0m\u001b[0m\n\u001b[0;32m-> 5446\u001b[0;31m             \u001b[0;32mraise\u001b[0m \u001b[0mKeyError\u001b[0m\u001b[0;34m(\u001b[0m\u001b[0;34mf\"None of {missing} are in the columns\"\u001b[0m\u001b[0;34m)\u001b[0m\u001b[0;34m\u001b[0m\u001b[0;34m\u001b[0m\u001b[0m\n\u001b[0m\u001b[1;32m   5447\u001b[0m \u001b[0;34m\u001b[0m\u001b[0m\n\u001b[1;32m   5448\u001b[0m         \u001b[0;32mif\u001b[0m \u001b[0minplace\u001b[0m\u001b[0;34m:\u001b[0m\u001b[0;34m\u001b[0m\u001b[0;34m\u001b[0m\u001b[0m\n",
      "\u001b[0;31mKeyError\u001b[0m: \"None of ['locationid'] are in the columns\""
     ]
    }
   ],
   "source": [
    "df.set_index('locationid',inplace = True)"
   ]
  },
  {
   "cell_type": "code",
   "execution_count": null,
   "id": "e79c20b7",
   "metadata": {
    "scrolled": true
   },
   "outputs": [],
   "source": [
    "df.loc[df['Mean Income'].astype('int') < 1000]\n",
    "# As per our data source, 0 income means that there are no records of income for these cities. \n",
    "# We can either make these values NAN or completely get rid of these rows. \n",
    "# We decided to just delete these rows as none of them are extremely 'important' cities. "
   ]
  },
  {
   "cell_type": "code",
   "execution_count": null,
   "id": "82da863b",
   "metadata": {},
   "outputs": [],
   "source": [
    "df = df.drop(df[df['Mean Income'].astype('int') < 1000].index)\n",
    "df.head(5)"
   ]
  },
  {
   "cell_type": "code",
   "execution_count": null,
   "id": "d2a2f231",
   "metadata": {},
   "outputs": [],
   "source": [
    "# That was all collection and processing. Now exploratory analysis and Visualization\n",
    "\n",
    "# Some things we could possibly explore in analysis\n",
    "    # most depressed cities\n",
    "    # avg depression/mental health rate by city\n",
    "    # state with worst depression, state with worst mental health\n",
    "    # income vs depression rates\n",
    "    # population density vs depression/mental health rates\n",
    "    # temp vs depression/mental health rates\n",
    "    # for every city, mental health rates vs depression rates, similar?\n",
    "    # maybe try using folium, geopandas, basemap. Couldn't get any to work atm\n",
    "        # talk about regions that seem to have higher rates of mental illness/depression\n",
    "        # if we dont do this we could also keep longitude/latitude data, plot a distribution"
   ]
  },
  {
   "cell_type": "code",
   "execution_count": null,
   "id": "2554862f",
   "metadata": {},
   "outputs": [],
   "source": []
  },
  {
   "cell_type": "code",
   "execution_count": null,
   "id": "5597f09f",
   "metadata": {},
   "outputs": [],
   "source": []
  }
 ],
 "metadata": {
  "kernelspec": {
   "display_name": "Python 3 (ipykernel)",
   "language": "python",
   "name": "python3"
  },
  "language_info": {
   "codemirror_mode": {
    "name": "ipython",
    "version": 3
   },
   "file_extension": ".py",
   "mimetype": "text/x-python",
   "name": "python",
   "nbconvert_exporter": "python",
   "pygments_lexer": "ipython3",
   "version": "3.9.6"
  }
 },
 "nbformat": 4,
 "nbformat_minor": 5
}
