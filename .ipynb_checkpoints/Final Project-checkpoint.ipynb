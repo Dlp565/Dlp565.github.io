{
 "cells": [
  {
   "cell_type": "code",
   "execution_count": null,
   "id": "e6f1bd23",
   "metadata": {},
   "outputs": [],
   "source": [
    "import pandas as pd\n",
    "import matplotlib.pyplot as plt\n",
    "import numpy as np\n",
    "from bs4 import BeautifulSoup\n",
    "import requests\n",
    "headers = {\"user-agent\": \"Mozilla/5.0 (Macintosh; Intel Mac OS X 10_15_7) AppleWebKit/537.36 (KHTML, like Gecko) Chrome/93.0.4577.82 Safari/537.36\"}"
   ]
  },
  {
   "cell_type": "code",
   "execution_count": null,
   "id": "f3af64a5",
   "metadata": {},
   "outputs": [],
   "source": [
    "# List of state abbreviations\n",
    "states = ['AL', 'AK', 'AZ' ,'AR', 'CA', 'CO', 'CT', 'DE', 'FL', 'GA', 'HI', 'ID', 'IL', 'IN',\n",
    " 'IA', 'KS', 'KY', 'LA', 'ME', 'MD', 'MA', 'MI', 'MN', 'MS', 'MO', 'MT', 'NE', 'NV',\n",
    " 'NH', 'NJ', 'NM', 'NY', 'DC', 'NC', 'ND', 'OH', 'OK', 'OR', 'PA', 'RI', 'SC', 'SD',\n",
    " 'TN', 'TX', 'UT', 'VT', 'VA', 'WA', 'WV', 'WI', 'WY']\n"
   ]
  },
  {
   "cell_type": "code",
   "execution_count": null,
   "id": "0be4e648",
   "metadata": {},
   "outputs": [],
   "source": [
    "list = []\n",
    "x = 0\n",
    "#df = pd.json_normalize(res.json())\n",
    "for state in states:\n",
    "    res = requests.get(f'https://chronicdata.cdc.gov/resource/eav7-hnsx.json?measureid=MHLTH&$limit=4000&stateabbr={state}')\n",
    "    list.append(res.json())\n",
    "    res = requests.get(f'https://chronicdata.cdc.gov/resource/eav7-hnsx.json?measureid=DEPRESSION&$limit=4000&stateabbr={state}')\n",
    "    list.append(res.json())\n",
    "    \n",
    "    "
   ]
  },
  {
   "cell_type": "code",
   "execution_count": null,
   "id": "0e6e44f6",
   "metadata": {},
   "outputs": [],
   "source": [
    "df = pd.json_normalize(list[0])\n",
    "df.set_index('locationid')\n",
    "for i in range(1,len(list)):\n",
    "    curr = pd.json_normalize(list[i])\n",
    "    df = df.append(curr)\n"
   ]
  },
  {
   "cell_type": "code",
   "execution_count": null,
   "id": "ecc39c58",
   "metadata": {},
   "outputs": [],
   "source": [
    "df.loc[((df['stateabbr'] == 'MD') & (df['locationname'] == 'Clarksburg'))]\n",
    "#df.loc[df['stateabbr'] == 'MD']['locationname'].unique()"
   ]
  },
  {
   "cell_type": "code",
   "execution_count": null,
   "id": "2ff9df93",
   "metadata": {},
   "outputs": [],
   "source": []
  },
  {
   "cell_type": "code",
   "execution_count": null,
   "id": "44102bb1",
   "metadata": {},
   "outputs": [],
   "source": [
    "# Import Income Data Set\n",
    "income_df = pd.read_csv(\"kaggle_income.csv\", encoding='latin-1')\n",
    "\n",
    "# delete unnecessary columns\n",
    "del income_df['id']\n",
    "del income_df['Type']\n",
    "del income_df['County']\n",
    "del income_df['Place']\n",
    "del income_df['Primary']\n",
    "del income_df['Lat']\n",
    "del income_df['Lon']\n",
    "del income_df['sum_w']\n",
    "\n",
    "# combine duplicate cities\n",
    "income_df.head(10)"
   ]
  },
  {
   "cell_type": "code",
   "execution_count": null,
   "id": "cbfc022e",
   "metadata": {},
   "outputs": [],
   "source": [
    "# import us cities dataset\n",
    "cities_df = pd.read_csv('uscities.csv')\n",
    "del cities_df['city_ascii']\n",
    "del cities_df['county_name']\n",
    "del cities_df['lat']\n",
    "del cities_df['lng']\n",
    "del cities_df['source']\n",
    "del cities_df['military']\n",
    "del cities_df['incorporated']\n",
    "del cities_df['timezone']\n",
    "del cities_df['ranking']\n",
    "del cities_df['id']\n",
    "cities_df.head(10)\n",
    "print(cities_df.loc[(cities_df['city'] == 'Rockville')])"
   ]
  }
 ],
 "metadata": {
  "kernelspec": {
   "display_name": "Python 3 (ipykernel)",
   "language": "python",
   "name": "python3"
  },
  "language_info": {
   "codemirror_mode": {
    "name": "ipython",
    "version": 3
   },
   "file_extension": ".py",
   "mimetype": "text/x-python",
   "name": "python",
   "nbconvert_exporter": "python",
   "pygments_lexer": "ipython3",
   "version": "3.9.6"
  }
 },
 "nbformat": 4,
 "nbformat_minor": 5
}
